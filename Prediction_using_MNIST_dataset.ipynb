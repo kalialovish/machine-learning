{
 "cells": [
  {
   "cell_type": "markdown",
   "metadata": {},
   "source": [
    "## Using Keras to predict handwritten images\n",
    "\n",
    "In this exercise we will use MNIST dataset to identify image data."
   ]
  },
  {
   "cell_type": "code",
   "execution_count": 1,
   "metadata": {},
   "outputs": [
    {
     "name": "stderr",
     "output_type": "stream",
     "text": [
      "Using TensorFlow backend.\n"
     ]
    }
   ],
   "source": [
    "from __future__ import print_function\n",
    "\n",
    "import keras\n",
    "from keras.datasets import mnist\n",
    "from keras.models import Sequential\n",
    "from keras.layers import Dense, Dropout\n",
    "from keras.optimizers import RMSprop\n",
    "\n",
    "import numpy as np\n",
    "import matplotlib.pyplot as plt\n",
    "%matplotlib inline"
   ]
  },
  {
   "cell_type": "code",
   "execution_count": 2,
   "metadata": {},
   "outputs": [
    {
     "data": {
      "text/plain": [
       "(28, 28)"
      ]
     },
     "execution_count": 2,
     "metadata": {},
     "output_type": "execute_result"
    }
   ],
   "source": [
    "#Splitting the data in train and test sets\n",
    "(x_train, y_train), (x_test, y_test) = mnist.load_data()\n",
    "\n",
    "#Dimensions of image\n",
    "x_train[0].shape"
   ]
  },
  {
   "cell_type": "code",
   "execution_count": 3,
   "metadata": {},
   "outputs": [
    {
     "data": {
      "text/plain": [
       "8"
      ]
     },
     "execution_count": 3,
     "metadata": {},
     "output_type": "execute_result"
    }
   ],
   "source": [
    "#The corresponding label \n",
    "y_train[333]"
   ]
  },
  {
   "cell_type": "code",
   "execution_count": 4,
   "metadata": {},
   "outputs": [
    {
     "data": {
      "text/plain": [
       "<matplotlib.image.AxesImage at 0x196246fa0f0>"
      ]
     },
     "execution_count": 4,
     "metadata": {},
     "output_type": "execute_result"
    },
    {
     "data": {
      "image/png": "[encoded data removed]",
      "text/plain": [
       "<Figure size 432x288 with 1 Axes>"
      ]
     },
     "metadata": {
      "needs_background": "light"
     },
     "output_type": "display_data"
    }
   ],
   "source": [
    "#The corresponding image\n",
    "plt.imshow(x_train[333], cmap='Greys_r')"
   ]
  },
  {
   "cell_type": "code",
   "execution_count": 5,
   "metadata": {},
   "outputs": [
    {
     "name": "stdout",
     "output_type": "stream",
     "text": [
      "(60000, 28, 28) train samples\n",
      "(10000, 28, 28) test samples\n"
     ]
    }
   ],
   "source": [
    "print(x_train.shape, 'train samples')\n",
    "print(x_test.shape, 'test samples')"
   ]
  },
  {
   "cell_type": "code",
   "execution_count": 6,
   "metadata": {},
   "outputs": [],
   "source": [
    "x_train = x_train.reshape(len(x_train), 28*28)\n",
    "x_test = x_test.reshape(len(x_test), 28*28)\n",
    "\n",
    "# Keras works with floats, so we must cast the numbers to floats\n",
    "x_train = x_train.astype('float32')\n",
    "x_test = x_test.astype('float32')\n",
    "\n",
    "# Normalize the inputs so they are between 0 and 1\n",
    "x_train /= 255\n",
    "x_test /= 255"
   ]
  },
  {
   "cell_type": "code",
   "execution_count": 7,
   "metadata": {},
   "outputs": [
    {
     "data": {
      "text/plain": [
       "array([0., 0., 0., 0., 0., 0., 0., 0., 1., 0.], dtype=float32)"
      ]
     },
     "execution_count": 7,
     "metadata": {},
     "output_type": "execute_result"
    }
   ],
   "source": [
    "# convert class vectors to binary class matrices\n",
    "num_classes = 10\n",
    "y_train = keras.utils.to_categorical(y_train, num_classes)\n",
    "y_test = keras.utils.to_categorical(y_test, num_classes)\n",
    "\n",
    "y_train[333]"
   ]
  },
  {
   "cell_type": "code",
   "execution_count": 8,
   "metadata": {},
   "outputs": [
    {
     "name": "stdout",
     "output_type": "stream",
     "text": [
      "_________________________________________________________________\n",
      "Layer (type)                 Output Shape              Param #   \n",
      "=================================================================\n",
      "dense_1 (Dense)              (None, 64)                50240     \n",
      "_________________________________________________________________\n",
      "dropout_1 (Dropout)          (None, 64)                0         \n",
      "_________________________________________________________________\n",
      "dense_2 (Dense)              (None, 64)                4160      \n",
      "_________________________________________________________________\n",
      "dropout_2 (Dropout)          (None, 64)                0         \n",
      "_________________________________________________________________\n",
      "dense_3 (Dense)              (None, 10)                650       \n",
      "=================================================================\n",
      "Total params: 55,050\n",
      "Trainable params: 55,050\n",
      "Non-trainable params: 0\n",
      "_________________________________________________________________\n"
     ]
    }
   ],
   "source": [
    "#Building the model\n",
    "model_1 = Sequential()\n",
    "model_1.add(Dense(64, activation='relu', input_shape=(784,)))\n",
    "model_1.add(Dropout(0.2))\n",
    "model_1.add(Dense(64, activation='relu'))\n",
    "model_1.add(Dropout(0.2))\n",
    "model_1.add(Dense(10, activation='softmax'))\n",
    "model_1.summary()"
   ]
  },
  {
   "cell_type": "code",
   "execution_count": 9,
   "metadata": {},
   "outputs": [],
   "source": [
    "learning_rate = .001\n",
    "model_1.compile(loss='categorical_crossentropy',\n",
    "              optimizer=RMSprop(lr=learning_rate),\n",
    "              metrics=['accuracy'])"
   ]
  },
  {
   "cell_type": "code",
   "execution_count": 10,
   "metadata": {},
   "outputs": [
    {
     "name": "stdout",
     "output_type": "stream",
     "text": [
      "Train on 60000 samples, validate on 10000 samples\n",
      "Epoch 1/100\n",
      "60000/60000 [==============================] - 5s 84us/step - loss: 0.4943 - acc: 0.8509 - val_loss: 0.2055 - val_acc: 0.9379\n",
      "Epoch 2/100\n",
      "60000/60000 [==============================] - 3s 53us/step - loss: 0.2393 - acc: 0.9291 - val_loss: 0.1465 - val_acc: 0.9566\n",
      "Epoch 3/100\n",
      "60000/60000 [==============================] - 3s 52us/step - loss: 0.1945 - acc: 0.9421 - val_loss: 0.1253 - val_acc: 0.9612\n",
      "Epoch 4/100\n",
      "60000/60000 [==============================] - 3s 50us/step - loss: 0.1711 - acc: 0.9494 - val_loss: 0.1130 - val_acc: 0.9647\n",
      "Epoch 5/100\n",
      "60000/60000 [==============================] - 3s 52us/step - loss: 0.1518 - acc: 0.9555 - val_loss: 0.1051 - val_acc: 0.9681\n",
      "Epoch 6/100\n",
      "60000/60000 [==============================] - 3s 53us/step - loss: 0.1417 - acc: 0.9583 - val_loss: 0.1048 - val_acc: 0.9693\n",
      "Epoch 7/100\n",
      "60000/60000 [==============================] - 3s 58us/step - loss: 0.1299 - acc: 0.9603 - val_loss: 0.1004 - val_acc: 0.9702\n",
      "Epoch 8/100\n",
      "60000/60000 [==============================] - 3s 55us/step - loss: 0.1234 - acc: 0.9641 - val_loss: 0.0954 - val_acc: 0.9728\n",
      "Epoch 9/100\n",
      "60000/60000 [==============================] - 3s 52us/step - loss: 0.1193 - acc: 0.9651 - val_loss: 0.0926 - val_acc: 0.9744\n",
      "Epoch 10/100\n",
      "60000/60000 [==============================] - 3s 55us/step - loss: 0.1140 - acc: 0.9659 - val_loss: 0.0920 - val_acc: 0.9741\n",
      "Epoch 11/100\n",
      "60000/60000 [==============================] - 3s 52us/step - loss: 0.1118 - acc: 0.9656 - val_loss: 0.0915 - val_acc: 0.9737\n",
      "Epoch 12/100\n",
      "60000/60000 [==============================] - 3s 51us/step - loss: 0.1083 - acc: 0.9684 - val_loss: 0.0906 - val_acc: 0.9743\n",
      "Epoch 13/100\n",
      "60000/60000 [==============================] - 3s 53us/step - loss: 0.1031 - acc: 0.9688 - val_loss: 0.0949 - val_acc: 0.9736\n",
      "Epoch 14/100\n",
      "60000/60000 [==============================] - 3s 52us/step - loss: 0.0997 - acc: 0.9698 - val_loss: 0.0942 - val_acc: 0.9747\n",
      "Epoch 15/100\n",
      "60000/60000 [==============================] - 3s 52us/step - loss: 0.0998 - acc: 0.9704 - val_loss: 0.0941 - val_acc: 0.9744\n",
      "Epoch 16/100\n",
      "60000/60000 [==============================] - 3s 58us/step - loss: 0.0966 - acc: 0.9718 - val_loss: 0.0932 - val_acc: 0.9755\n",
      "Epoch 17/100\n",
      "60000/60000 [==============================] - 3s 54us/step - loss: 0.0926 - acc: 0.9721 - val_loss: 0.0904 - val_acc: 0.9760\n",
      "Epoch 18/100\n",
      "60000/60000 [==============================] - 3s 52us/step - loss: 0.0938 - acc: 0.9726 - val_loss: 0.0941 - val_acc: 0.9754\n",
      "Epoch 19/100\n",
      "60000/60000 [==============================] - 3s 54us/step - loss: 0.0922 - acc: 0.9721 - val_loss: 0.0941 - val_acc: 0.9766\n",
      "Epoch 20/100\n",
      "60000/60000 [==============================] - 3s 54us/step - loss: 0.0884 - acc: 0.9741 - val_loss: 0.0904 - val_acc: 0.9767\n",
      "Epoch 21/100\n",
      "60000/60000 [==============================] - 3s 58us/step - loss: 0.0897 - acc: 0.9737 - val_loss: 0.0936 - val_acc: 0.9766\n",
      "Epoch 22/100\n",
      "60000/60000 [==============================] - 3s 56us/step - loss: 0.0897 - acc: 0.9738 - val_loss: 0.0942 - val_acc: 0.9762\n",
      "Epoch 23/100\n",
      "60000/60000 [==============================] - 3s 52us/step - loss: 0.0859 - acc: 0.9747 - val_loss: 0.0994 - val_acc: 0.9770\n",
      "Epoch 24/100\n",
      "60000/60000 [==============================] - 3s 55us/step - loss: 0.0876 - acc: 0.9739 - val_loss: 0.1001 - val_acc: 0.9763\n",
      "Epoch 25/100\n",
      "60000/60000 [==============================] - 3s 54us/step - loss: 0.0837 - acc: 0.9751 - val_loss: 0.1001 - val_acc: 0.9763\n",
      "Epoch 26/100\n",
      "60000/60000 [==============================] - 3s 51us/step - loss: 0.0858 - acc: 0.9751 - val_loss: 0.0940 - val_acc: 0.9782\n",
      "Epoch 27/100\n",
      "60000/60000 [==============================] - 3s 51us/step - loss: 0.0837 - acc: 0.9751 - val_loss: 0.0975 - val_acc: 0.9776\n",
      "Epoch 28/100\n",
      "60000/60000 [==============================] - 4s 59us/step - loss: 0.0851 - acc: 0.9755 - val_loss: 0.0981 - val_acc: 0.9777\n",
      "Epoch 29/100\n",
      "60000/60000 [==============================] - 3s 54us/step - loss: 0.0809 - acc: 0.9759 - val_loss: 0.1033 - val_acc: 0.9772\n",
      "Epoch 30/100\n",
      "60000/60000 [==============================] - 3s 53us/step - loss: 0.0795 - acc: 0.9770 - val_loss: 0.1031 - val_acc: 0.9752\n",
      "Epoch 31/100\n",
      "60000/60000 [==============================] - 4s 71us/step - loss: 0.0800 - acc: 0.9768 - val_loss: 0.1018 - val_acc: 0.9784\n",
      "Epoch 32/100\n",
      "60000/60000 [==============================] - 4s 61us/step - loss: 0.0799 - acc: 0.9770 - val_loss: 0.1016 - val_acc: 0.9771\n",
      "Epoch 33/100\n",
      "60000/60000 [==============================] - 3s 55us/step - loss: 0.0816 - acc: 0.9766 - val_loss: 0.1008 - val_acc: 0.9780\n",
      "Epoch 34/100\n",
      "60000/60000 [==============================] - 4s 61us/step - loss: 0.0774 - acc: 0.9779 - val_loss: 0.1002 - val_acc: 0.9773\n",
      "Epoch 35/100\n",
      "60000/60000 [==============================] - 4s 61us/step - loss: 0.0792 - acc: 0.9768 - val_loss: 0.1082 - val_acc: 0.9762\n",
      "Epoch 36/100\n",
      "60000/60000 [==============================] - 4s 66us/step - loss: 0.0790 - acc: 0.9773 - val_loss: 0.1036 - val_acc: 0.9774\n",
      "Epoch 37/100\n",
      "60000/60000 [==============================] - 6s 94us/step - loss: 0.0772 - acc: 0.9779 - val_loss: 0.1010 - val_acc: 0.9769\n",
      "Epoch 38/100\n",
      "60000/60000 [==============================] - 4s 71us/step - loss: 0.0786 - acc: 0.9773 - val_loss: 0.1060 - val_acc: 0.9770\n",
      "Epoch 39/100\n",
      "60000/60000 [==============================] - 4s 65us/step - loss: 0.0801 - acc: 0.9769 - val_loss: 0.1087 - val_acc: 0.9763\n",
      "Epoch 40/100\n",
      "60000/60000 [==============================] - 3s 57us/step - loss: 0.0778 - acc: 0.9771 - val_loss: 0.1095 - val_acc: 0.9776\n",
      "Epoch 41/100\n",
      "60000/60000 [==============================] - 4s 70us/step - loss: 0.0756 - acc: 0.9790 - val_loss: 0.1070 - val_acc: 0.9775\n",
      "Epoch 42/100\n",
      "60000/60000 [==============================] - 5s 76us/step - loss: 0.0759 - acc: 0.9791 - val_loss: 0.1070 - val_acc: 0.9781\n",
      "Epoch 43/100\n",
      "60000/60000 [==============================] - 5s 75us/step - loss: 0.0756 - acc: 0.9783 - val_loss: 0.1071 - val_acc: 0.9769\n",
      "Epoch 44/100\n",
      "60000/60000 [==============================] - 4s 60us/step - loss: 0.0736 - acc: 0.9789 - val_loss: 0.1096 - val_acc: 0.9756\n",
      "Epoch 45/100\n",
      "60000/60000 [==============================] - 4s 70us/step - loss: 0.0745 - acc: 0.9792 - val_loss: 0.1138 - val_acc: 0.9763\n",
      "Epoch 46/100\n",
      "60000/60000 [==============================] - 4s 61us/step - loss: 0.0747 - acc: 0.9789 - val_loss: 0.1107 - val_acc: 0.9773\n",
      "Epoch 47/100\n",
      "60000/60000 [==============================] - 4s 59us/step - loss: 0.0712 - acc: 0.9800 - val_loss: 0.1143 - val_acc: 0.9770\n",
      "Epoch 48/100\n",
      "60000/60000 [==============================] - 3s 56us/step - loss: 0.0734 - acc: 0.9803 - val_loss: 0.1172 - val_acc: 0.9770\n",
      "Epoch 49/100\n",
      "60000/60000 [==============================] - 4s 60us/step - loss: 0.0750 - acc: 0.9794 - val_loss: 0.1121 - val_acc: 0.9773\n",
      "Epoch 50/100\n",
      "60000/60000 [==============================] - 3s 57us/step - loss: 0.0710 - acc: 0.9799 - val_loss: 0.1112 - val_acc: 0.9773\n",
      "Epoch 51/100\n",
      "60000/60000 [==============================] - 3s 55us/step - loss: 0.0725 - acc: 0.9794 - val_loss: 0.1177 - val_acc: 0.9765\n",
      "Epoch 52/100\n",
      "60000/60000 [==============================] - 3s 55us/step - loss: 0.0709 - acc: 0.9807 - val_loss: 0.1114 - val_acc: 0.9773\n",
      "Epoch 53/100\n",
      "60000/60000 [==============================] - 3s 58us/step - loss: 0.0736 - acc: 0.9800 - val_loss: 0.1196 - val_acc: 0.9771\n",
      "Epoch 54/100\n",
      "60000/60000 [==============================] - 3s 58us/step - loss: 0.0723 - acc: 0.9802 - val_loss: 0.1325 - val_acc: 0.9768\n",
      "Epoch 55/100\n",
      "60000/60000 [==============================] - 3s 51us/step - loss: 0.0711 - acc: 0.9802 - val_loss: 0.1202 - val_acc: 0.9782\n",
      "Epoch 56/100\n",
      "60000/60000 [==============================] - 3s 57us/step - loss: 0.0724 - acc: 0.9800 - val_loss: 0.1171 - val_acc: 0.9774\n",
      "Epoch 57/100\n",
      "60000/60000 [==============================] - 4s 59us/step - loss: 0.0711 - acc: 0.9799 - val_loss: 0.1173 - val_acc: 0.9760\n",
      "Epoch 58/100\n",
      "60000/60000 [==============================] - 3s 56us/step - loss: 0.0723 - acc: 0.9805 - val_loss: 0.1297 - val_acc: 0.9765\n",
      "Epoch 59/100\n"
     ]
    },
    {
     "name": "stdout",
     "output_type": "stream",
     "text": [
      "60000/60000 [==============================] - 3s 53us/step - loss: 0.0701 - acc: 0.9807 - val_loss: 0.1207 - val_acc: 0.9772\n",
      "Epoch 60/100\n",
      "60000/60000 [==============================] - 3s 51us/step - loss: 0.0734 - acc: 0.9804 - val_loss: 0.1153 - val_acc: 0.9772\n",
      "Epoch 61/100\n",
      "60000/60000 [==============================] - 3s 57us/step - loss: 0.0709 - acc: 0.9806 - val_loss: 0.1216 - val_acc: 0.9768\n",
      "Epoch 62/100\n",
      "60000/60000 [==============================] - 4s 65us/step - loss: 0.0720 - acc: 0.9807 - val_loss: 0.1268 - val_acc: 0.9744\n",
      "Epoch 63/100\n",
      "60000/60000 [==============================] - 3s 53us/step - loss: 0.0700 - acc: 0.9808 - val_loss: 0.1201 - val_acc: 0.9761\n",
      "Epoch 64/100\n",
      "60000/60000 [==============================] - 3s 50us/step - loss: 0.0731 - acc: 0.9804 - val_loss: 0.1310 - val_acc: 0.9773\n",
      "Epoch 65/100\n",
      "60000/60000 [==============================] - 3s 52us/step - loss: 0.0714 - acc: 0.9804 - val_loss: 0.1257 - val_acc: 0.9770\n",
      "Epoch 66/100\n",
      "60000/60000 [==============================] - 3s 51us/step - loss: 0.0729 - acc: 0.9804 - val_loss: 0.1301 - val_acc: 0.9768\n",
      "Epoch 67/100\n",
      "60000/60000 [==============================] - 3s 53us/step - loss: 0.0748 - acc: 0.9799 - val_loss: 0.1346 - val_acc: 0.9764\n",
      "Epoch 68/100\n",
      "60000/60000 [==============================] - 3s 55us/step - loss: 0.0727 - acc: 0.9806 - val_loss: 0.1259 - val_acc: 0.9764\n",
      "Epoch 69/100\n",
      "60000/60000 [==============================] - 3s 57us/step - loss: 0.0734 - acc: 0.9802 - val_loss: 0.1262 - val_acc: 0.9761\n",
      "Epoch 70/100\n",
      "60000/60000 [==============================] - 3s 51us/step - loss: 0.0739 - acc: 0.9804 - val_loss: 0.1296 - val_acc: 0.9774\n",
      "Epoch 71/100\n",
      "60000/60000 [==============================] - 3s 57us/step - loss: 0.0720 - acc: 0.9811 - val_loss: 0.1308 - val_acc: 0.9771\n",
      "Epoch 72/100\n",
      "60000/60000 [==============================] - 3s 52us/step - loss: 0.0717 - acc: 0.9812 - val_loss: 0.1291 - val_acc: 0.9764\n",
      "Epoch 73/100\n",
      "60000/60000 [==============================] - 3s 50us/step - loss: 0.0704 - acc: 0.9810 - val_loss: 0.1336 - val_acc: 0.9766\n",
      "Epoch 74/100\n",
      "60000/60000 [==============================] - 3s 52us/step - loss: 0.0718 - acc: 0.9814 - val_loss: 0.1318 - val_acc: 0.9767\n",
      "Epoch 75/100\n",
      "60000/60000 [==============================] - 3s 52us/step - loss: 0.0693 - acc: 0.9811 - val_loss: 0.1288 - val_acc: 0.9775\n",
      "Epoch 76/100\n",
      "60000/60000 [==============================] - 3s 52us/step - loss: 0.0739 - acc: 0.9802 - val_loss: 0.1349 - val_acc: 0.9757\n",
      "Epoch 77/100\n",
      "60000/60000 [==============================] - 3s 55us/step - loss: 0.0724 - acc: 0.9811 - val_loss: 0.1309 - val_acc: 0.9765\n",
      "Epoch 78/100\n",
      "60000/60000 [==============================] - 3s 54us/step - loss: 0.0717 - acc: 0.9813 - val_loss: 0.1359 - val_acc: 0.9753\n",
      "Epoch 79/100\n",
      "60000/60000 [==============================] - 3s 52us/step - loss: 0.0733 - acc: 0.9812 - val_loss: 0.1363 - val_acc: 0.9753\n",
      "Epoch 80/100\n",
      "60000/60000 [==============================] - 3s 54us/step - loss: 0.0709 - acc: 0.9812 - val_loss: 0.1337 - val_acc: 0.9772\n",
      "Epoch 81/100\n",
      "60000/60000 [==============================] - 3s 54us/step - loss: 0.0692 - acc: 0.9821 - val_loss: 0.1368 - val_acc: 0.9766\n",
      "Epoch 82/100\n",
      "60000/60000 [==============================] - 3s 55us/step - loss: 0.0741 - acc: 0.9814 - val_loss: 0.1327 - val_acc: 0.9773\n",
      "Epoch 83/100\n",
      "60000/60000 [==============================] - 3s 55us/step - loss: 0.0764 - acc: 0.9802 - val_loss: 0.1298 - val_acc: 0.9768\n",
      "Epoch 84/100\n",
      "60000/60000 [==============================] - 3s 53us/step - loss: 0.0747 - acc: 0.9808 - val_loss: 0.1469 - val_acc: 0.9757\n",
      "Epoch 85/100\n",
      "60000/60000 [==============================] - 3s 53us/step - loss: 0.0707 - acc: 0.9814 - val_loss: 0.1354 - val_acc: 0.9774\n",
      "Epoch 86/100\n",
      "60000/60000 [==============================] - 3s 55us/step - loss: 0.0705 - acc: 0.9819 - val_loss: 0.1460 - val_acc: 0.9761\n",
      "Epoch 87/100\n",
      "60000/60000 [==============================] - 3s 57us/step - loss: 0.0703 - acc: 0.9815 - val_loss: 0.1395 - val_acc: 0.9767\n",
      "Epoch 88/100\n",
      "60000/60000 [==============================] - 3s 56us/step - loss: 0.0682 - acc: 0.9819 - val_loss: 0.1351 - val_acc: 0.9760\n",
      "Epoch 89/100\n",
      "60000/60000 [==============================] - 3s 57us/step - loss: 0.0711 - acc: 0.9813 - val_loss: 0.1377 - val_acc: 0.9768\n",
      "Epoch 90/100\n",
      "60000/60000 [==============================] - 4s 59us/step - loss: 0.0694 - acc: 0.9821 - val_loss: 0.1402 - val_acc: 0.9776\n",
      "Epoch 91/100\n",
      "60000/60000 [==============================] - 4s 66us/step - loss: 0.0701 - acc: 0.9817 - val_loss: 0.1396 - val_acc: 0.9765ETA: 0s - loss: 0.0683 - acc\n",
      "Epoch 92/100\n",
      "60000/60000 [==============================] - 3s 53us/step - loss: 0.0720 - acc: 0.9817 - val_loss: 0.1408 - val_acc: 0.9758\n",
      "Epoch 93/100\n",
      "60000/60000 [==============================] - 3s 49us/step - loss: 0.0707 - acc: 0.9818 - val_loss: 0.1367 - val_acc: 0.9765\n",
      "Epoch 94/100\n",
      "60000/60000 [==============================] - 3s 52us/step - loss: 0.0709 - acc: 0.9818 - val_loss: 0.1381 - val_acc: 0.9759\n",
      "Epoch 95/100\n",
      "60000/60000 [==============================] - 3s 49us/step - loss: 0.0691 - acc: 0.9825 - val_loss: 0.1463 - val_acc: 0.9752\n",
      "Epoch 96/100\n",
      "60000/60000 [==============================] - 3s 51us/step - loss: 0.0702 - acc: 0.9818 - val_loss: 0.1381 - val_acc: 0.9765\n",
      "Epoch 97/100\n",
      "60000/60000 [==============================] - 3s 54us/step - loss: 0.0701 - acc: 0.9818 - val_loss: 0.1426 - val_acc: 0.9754\n",
      "Epoch 98/100\n",
      "60000/60000 [==============================] - 3s 51us/step - loss: 0.0728 - acc: 0.9820 - val_loss: 0.1395 - val_acc: 0.9768\n",
      "Epoch 99/100\n",
      "60000/60000 [==============================] - 3s 56us/step - loss: 0.0726 - acc: 0.9817 - val_loss: 0.1505 - val_acc: 0.9745\n",
      "Epoch 100/100\n",
      "60000/60000 [==============================] - 3s 52us/step - loss: 0.0730 - acc: 0.9819 - val_loss: 0.1488 - val_acc: 0.9760\n"
     ]
    }
   ],
   "source": [
    "batch_size = 128  # mini-batch with 128 examples\n",
    "epochs = 100\n",
    "history = model_1.fit(\n",
    "    x_train, y_train,\n",
    "    batch_size=batch_size,\n",
    "    epochs=epochs,\n",
    "    verbose=1,\n",
    "    validation_data=(x_test, y_test))"
   ]
  },
  {
   "cell_type": "code",
   "execution_count": 11,
   "metadata": {},
   "outputs": [
    {
     "name": "stdout",
     "output_type": "stream",
     "text": [
      "Test loss: 0.14879233044656812\n",
      "Test accuracy: 0.976\n"
     ]
    }
   ],
   "source": [
    "#Print the score\n",
    "score = model_1.evaluate(x_test, y_test, verbose=0)\n",
    "print('Test loss:', score[0])\n",
    "print('Test accuracy:', score[1])"
   ]
  },
  {
   "cell_type": "code",
   "execution_count": 12,
   "metadata": {},
   "outputs": [
    {
     "data": {
      "image/png": "[encoded data removed]",
      "text/plain": [
       "<Figure size 864x432 with 2 Axes>"
      ]
     },
     "metadata": {
      "needs_background": "light"
     },
     "output_type": "display_data"
    }
   ],
   "source": [
    "#Plot the score\n",
    "def plot_score(history):\n",
    "    fig = plt.figure(figsize=(12, 6))\n",
    "    ax = fig.add_subplot(1, 2, 1)\n",
    "    ax.plot(history.history[\"loss\"],'r-x', label=\"Train Loss\")\n",
    "    ax.plot(history.history[\"val_loss\"],'b-x', label=\"Validation Loss\")\n",
    "    ax.legend()\n",
    "    ax.set_title('cross_entropy loss')\n",
    "    ax.grid(True)\n",
    "\n",
    "\n",
    "    ax = fig.add_subplot(1, 2, 2)\n",
    "    ax.plot(history.history[\"acc\"],'r-x', label=\"Train Accuracy\")\n",
    "    ax.plot(history.history[\"val_acc\"],'b-x', label=\"Validation Accuracy\")\n",
    "    ax.legend()\n",
    "    ax.set_title('accuracy')\n",
    "    ax.grid(True)\n",
    "    \n",
    "\n",
    "plot_score(history)"
   ]
  }
 ],
 "metadata": {
  "kernelspec": {
   "display_name": "Python 3",
   "language": "python",
   "name": "python3"
  },
  "language_info": {
   "codemirror_mode": {
    "name": "ipython",
    "version": 3
   },
   "file_extension": ".py",
   "mimetype": "text/x-python",
   "name": "python",
   "nbconvert_exporter": "python",
   "pygments_lexer": "ipython3",
   "version": "3.5.6"
  }
 },
 "nbformat": 4,
 "nbformat_minor": 2
}
